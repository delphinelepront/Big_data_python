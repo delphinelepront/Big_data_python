{
 "cells": [
  {
   "cell_type": "code",
   "execution_count": 1,
   "id": "69e1007c",
   "metadata": {},
   "outputs": [
    {
     "data": {
      "text/plain": [
       "200"
      ]
     },
     "execution_count": 1,
     "metadata": {},
     "output_type": "execute_result"
    }
   ],
   "source": [
    "import requests\n",
    "import json\n",
    "\n",
    "url = 'https://api.spacexdata.com/v4/launches'\n",
    "\n",
    "#On récupère toutes les informations sur les différents vols de spaceX\n",
    "r = requests.get(url)\n",
    "retourJson = json.loads(r.text)\n",
    "r.status_code\n"
   ]
  },
  {
   "cell_type": "markdown",
   "id": "a29f4525",
   "metadata": {},
   "source": [
    "# Quel est le taux de réussite de SpaceX pour ses lancements ?"
   ]
  },
  {
   "cell_type": "code",
   "execution_count": 2,
   "id": "459a7d2f",
   "metadata": {},
   "outputs": [
    {
     "name": "stdout",
     "output_type": "stream",
     "text": [
      "[{'success': False, 'dateUnix': 1143239400}, {'success': False, 'dateUnix': 1174439400}, {'success': False, 'dateUnix': 1217734440}, {'success': True, 'dateUnix': 1222643700}, {'success': True, 'dateUnix': 1247456100}, {'success': True, 'dateUnix': 1275677100}, {'success': True, 'dateUnix': 1291822980}, {'success': True, 'dateUnix': 1335944640}, {'success': True, 'dateUnix': 1349656500}, {'success': True, 'dateUnix': 1362165000}, {'success': True, 'dateUnix': 1380470400}, {'success': True, 'dateUnix': 1386110460}, {'success': True, 'dateUnix': 1389031560}, {'success': True, 'dateUnix': 1397849100}, {'success': True, 'dateUnix': 1405350900}, {'success': True, 'dateUnix': 1407225600}, {'success': True, 'dateUnix': 1410066000}, {'success': True, 'dateUnix': 1411278720}, {'success': True, 'dateUnix': 1420883220}, {'success': True, 'dateUnix': 1423695780}, {'success': True, 'dateUnix': 1425268200}, {'success': True, 'dateUnix': 1429042200}, {'success': True, 'dateUnix': 1430175780}, {'success': False, 'dateUnix': 1435501260}, {'success': True, 'dateUnix': 1450747740}, {'success': True, 'dateUnix': 1453045320}, {'success': True, 'dateUnix': 1457134500}, {'success': True, 'dateUnix': 1460148180}, {'success': True, 'dateUnix': 1462512060}, {'success': True, 'dateUnix': 1464385140}, {'success': True, 'dateUnix': 1466000940}, {'success': True, 'dateUnix': 1468817100}, {'success': True, 'dateUnix': 1471152360}, {'success': False, 'dateUnix': 1472735220}, {'success': True, 'dateUnix': 1484416440}, {'success': True, 'dateUnix': 1487515140}, {'success': True, 'dateUnix': 1489644000}, {'success': True, 'dateUnix': 1490912820}, {'success': True, 'dateUnix': 1493637300}, {'success': True, 'dateUnix': 1494890460}, {'success': True, 'dateUnix': 1496524020}, {'success': True, 'dateUnix': 1498245000}, {'success': True, 'dateUnix': 1498422300}, {'success': True, 'dateUnix': 1499297700}, {'success': True, 'dateUnix': 1502728260}, {'success': True, 'dateUnix': 1503600600}, {'success': True, 'dateUnix': 1504792200}, {'success': True, 'dateUnix': 1507552620}, {'success': True, 'dateUnix': 1507762380}, {'success': True, 'dateUnix': 1509392040}, {'success': True, 'dateUnix': 1513352160}, {'success': True, 'dateUnix': 1513992443}, {'success': True, 'dateUnix': 1515373200}, {'success': True, 'dateUnix': 1517433900}, {'success': True, 'dateUnix': 1517949900}, {'success': True, 'dateUnix': 1519309020}, {'success': True, 'dateUnix': 1520314380}, {'success': True, 'dateUnix': 1522419231}, {'success': True, 'dateUnix': 1522701041}, {'success': True, 'dateUnix': 1524091860}, {'success': True, 'dateUnix': 1526069640}, {'success': True, 'dateUnix': 1527018478}, {'success': True, 'dateUnix': 1528087500}, {'success': True, 'dateUnix': 1530265320}, {'success': True, 'dateUnix': 1532238600}, {'success': True, 'dateUnix': 1532518766}, {'success': True, 'dateUnix': 1533619080}, {'success': True, 'dateUnix': 1536554700}, {'success': True, 'dateUnix': 1538965320}, {'success': True, 'dateUnix': 1542314760}, {'success': True, 'dateUnix': 1543861920}, {'success': True, 'dateUnix': 1544033760}, {'success': True, 'dateUnix': 1545573060}, {'success': True, 'dateUnix': 1547220660}, {'success': True, 'dateUnix': 1550799900}, {'success': True, 'dateUnix': 1551512700}, {'success': True, 'dateUnix': 1555022100}, {'success': True, 'dateUnix': 1556952480}, {'success': True, 'dateUnix': 1558665000}, {'success': True, 'dateUnix': 1560349020}, {'success': True, 'dateUnix': 1561433400}, {'success': True, 'dateUnix': 1564092060}, {'success': True, 'dateUnix': 1565131920}, {'success': True, 'dateUnix': 1573484160}, {'success': True, 'dateUnix': 1575566963}, {'success': True, 'dateUnix': 1576541400}, {'success': True, 'dateUnix': 1578363540}, {'success': True, 'dateUnix': 1579442400}, {'success': True, 'dateUnix': 1580306760}, {'success': True, 'dateUnix': 1581951955}, {'success': True, 'dateUnix': 1583556631}, {'success': True, 'dateUnix': 1584533760}, {'success': True, 'dateUnix': 1587583800}, {'success': True, 'dateUnix': 1590866520}, {'success': True, 'dateUnix': 1591233900}, {'success': True, 'dateUnix': 1592040060}, {'success': True, 'dateUnix': 1593546900}, {'success': True, 'dateUnix': 1595280600}, {'success': True, 'dateUnix': 1596777120}, {'success': True, 'dateUnix': 1597761060}, {'success': True, 'dateUnix': 1598829480}, {'success': True, 'dateUnix': 1599137160}, {'success': True, 'dateUnix': 1601983740}, {'success': True, 'dateUnix': 1603023900}, {'success': True, 'dateUnix': 1603553460}, {'success': True, 'dateUnix': 1604618640}, {'success': True, 'dateUnix': 1605486420}, {'success': True, 'dateUnix': 1605979020}, {'success': True, 'dateUnix': 1606270380}, {'success': True, 'dateUnix': 1607271420}, {'success': True, 'dateUnix': 1607880600}, {'success': True, 'dateUnix': 1608386400}, {'success': True, 'dateUnix': 1610072100}, {'success': True, 'dateUnix': 1611147720}, {'success': True, 'dateUnix': 1611500400}, {'success': True, 'dateUnix': 1612419540}, {'success': True, 'dateUnix': 1613447940}, {'success': True, 'dateUnix': 1614846240}, {'success': True, 'dateUnix': 1615450380}, {'success': True, 'dateUnix': 1615716060}, {'success': True, 'dateUnix': 1616574480}, {'success': True, 'dateUnix': 1617813240}, {'success': True, 'dateUnix': 1619171340}, {'success': True, 'dateUnix': 1619667840}, {'success': True, 'dateUnix': 1620154860}, {'success': True, 'dateUnix': 1620542520}, {'success': True, 'dateUnix': 1621119240}, {'success': True, 'dateUnix': 1622055540}, {'success': True, 'dateUnix': 1622741340}, {'success': True, 'dateUnix': 1622953560}, {'success': True, 'dateUnix': 1623946140}, {'success': True, 'dateUnix': 1625081460}, {'success': True, 'dateUnix': 1630221240}, {'success': True, 'dateUnix': 1631591700}, {'success': True, 'dateUnix': 1631750520}, {'success': True, 'dateUnix': 1630221240}, {'success': None, 'dateUnix': 1635576180}, {'success': None, 'dateUnix': 1633046400}, {'success': None, 'dateUnix': 1633046400}, {'success': None, 'dateUnix': 1637277060}, {'success': None, 'dateUnix': 1637734800}, {'success': None, 'dateUnix': 1639008000}, {'success': None, 'dateUnix': 1635724800}, {'success': None, 'dateUnix': 1633046400}, {'success': None, 'dateUnix': 1640995200}, {'success': None, 'dateUnix': 1643760000}, {'success': None, 'dateUnix': 1646092800}, {'success': None, 'dateUnix': 1640995200}]\n"
     ]
    }
   ],
   "source": [
    "from datetime import datetime\n",
    "\n",
    "valInter = {\n",
    "  \"reussite\":0,\n",
    "  \"echec\": 0\n",
    "}\n",
    "\n",
    "lstValInter = [];\n",
    "\n",
    "# on répertorie les réussites et les échecs\n",
    "for line in retourJson:\n",
    "        lstValInter.append({\"success\":line['success'],\"dateUnix\": line[\"date_unix\"]} )\n",
    "        if(line['success'] == False):\n",
    "            valInter[\"echec\"] = valInter[\"echec\"]+1\n",
    "        if(line['success'] == True):\n",
    "            valInter[\"reussite\"] = valInter[\"reussite\"]+1                    \n",
    "            \n",
    "print(lstValInter)"
   ]
  },
  {
   "cell_type": "code",
   "execution_count": 3,
   "id": "f3aaf239",
   "metadata": {},
   "outputs": [
    {
     "data": {
      "image/png": "[encoded data removed]",
      "text/plain": [
       "<Figure size 432x288 with 1 Axes>"
      ]
     },
     "metadata": {},
     "output_type": "display_data"
    }
   ],
   "source": [
    "import matplotlib.pyplot as plt\n",
    "\n",
    "#affichage du camembert échec/réussite de spaceX\n",
    "name = ['reussite', 'echec']\n",
    "data = [valInter[\"reussite\"], valInter[\"echec\"]]\n",
    "\n",
    "explode=(0, 0)\n",
    "plt.pie(data, explode=explode, labels=name, autopct='%1.1f%%', startangle=90, shadow=True)\n",
    "plt.axis('equal')\n",
    "plt.show()"
   ]
  },
  {
   "cell_type": "markdown",
   "id": "51bee3ec",
   "metadata": {},
   "source": [
    "# Le nombre de vol de Space X at-t-il évolué positivement sur les dernière années ?"
   ]
  },
  {
   "cell_type": "code",
   "execution_count": 4,
   "id": "ef705d8e",
   "metadata": {},
   "outputs": [
    {
     "name": "stdout",
     "output_type": "stream",
     "text": [
      "{'2006': 1, '2007': 1, '2008': 2, '2009': 1, '2010': 2, '2012': 2, '2013': 3, '2014': 6, '2015': 7, '2016': 9, '2017': 18, '2018': 21, '2019': 13, '2020': 26, '2021': 32, '2022': 4}\n",
      "['2006', '2007', '2008', '2009', '2010', '2012', '2013', '2014', '2015', '2016', '2017', '2018', '2019', '2020', '2021', '2022']\n"
     ]
    },
    {
     "data": {
      "text/plain": [
       "Text(0, 0.5, 'vol')"
      ]
     },
     "execution_count": 4,
     "metadata": {},
     "output_type": "execute_result"
    },
    {
     "data": {
      "image/png": "[encoded data removed]",
      "text/plain": [
       "<Figure size 432x288 with 1 Axes>"
      ]
     },
     "metadata": {
      "needs_background": "light"
     },
     "output_type": "display_data"
    }
   ],
   "source": [
    "numFlightParYare = {}\n",
    "\n",
    "#on identifie l'année du vol \n",
    "for line in lstValInter:\n",
    "    anne = datetime.utcfromtimestamp(line['dateUnix']).strftime('%Y')\n",
    "    if anne in numFlightParYare:\n",
    "        numFlightParYare[anne] += 1;\n",
    "    else:\n",
    "        numFlightParYare[anne] = 1;\n",
    "        \n",
    "# affichage du tableau lancement par an    \n",
    "print(numFlightParYare)\n",
    "\n",
    "# création et affichage du graphique pour le nombre de vol par année\n",
    "anne = []\n",
    "flight = []\n",
    "for key, value in numFlightParYare.items():\n",
    "    anne.append( key)\n",
    "    flight.append( value)\n",
    " \n",
    "print(anne)\n",
    "plt.grid(True)\n",
    "plt.plot(anne, flight, \"b\", linewidth=0.8, marker=\"*\")\n",
    "plt.xlabel('années')\n",
    "plt.ylabel('vol')"
   ]
  },
  {
   "cell_type": "markdown",
   "id": "2ed8b1fe",
   "metadata": {},
   "source": [
    "# Quel masse et quel altitude avec SpaceX ?"
   ]
  },
  {
   "cell_type": "code",
   "execution_count": 5,
   "id": "cbbcb0b9",
   "metadata": {},
   "outputs": [
    {
     "data": {
      "text/plain": [
       "200"
      ]
     },
     "execution_count": 5,
     "metadata": {},
     "output_type": "execute_result"
    }
   ],
   "source": [
    "# on récupère les infos sur les charges utiles mis en orbite par spaceX\n",
    "urld = 'https://api.spacexdata.com/v3/payloads'\n",
    "rd = requests.get(urld)\n",
    "retourJsonPayload = json.loads(rd.text)\n",
    "r.status_code"
   ]
  },
  {
   "cell_type": "code",
   "execution_count": 6,
   "id": "bf1b30c7",
   "metadata": {},
   "outputs": [
    {
     "name": "stdout",
     "output_type": "stream",
     "text": [
      "Requirement already satisfied: tabulate in /Users/delphine/opt/anaconda3/lib/python3.8/site-packages (0.8.9)\n",
      "Note: you may need to restart the kernel to use updated packages.\n"
     ]
    }
   ],
   "source": [
    "pip install tabulate"
   ]
  },
  {
   "cell_type": "code",
   "execution_count": 7,
   "id": "3b9eb2c5",
   "metadata": {},
   "outputs": [
    {
     "name": "stdout",
     "output_type": "stream",
     "text": [
      "Payload ID                      Masse en kg    Altitude en km       Rapport\n",
      "----------------------------  -------------  ----------------  ------------\n",
      "ABS-2A                              1800            35782.9     19.8794\n",
      "ABS-3A                              1954            35783.4     18.3129\n",
      "Amos-6                              5500            35785        6.50636\n",
      "ArabSat 6A                          6000            35765.7      5.96095\n",
      "AsiaSat 6                           4428            35783.1      8.0811\n",
      "AsiaSat 8                           4535            35781        7.88996\n",
      "Bangabandhu-1                       3750            35778.5      9.54095\n",
      "Beresheet                            585             1261.39     2.15622\n",
      "BulgariaSat-1                       3669            35776.1      9.75091\n",
      "CASSIOPE                             500              319.116    0.638232\n",
      "CCtCap Demo Mission 1              12259              394.367    0.0321696\n",
      "CCtCap Demo Mission 2               9525              156.466    0.0164269\n",
      "COTS Demo Flight 2                   525              294.646    0.56123\n",
      "CRS-1                                400              203.764    0.50941\n",
      "CRS-10                              2490              202.334    0.0812586\n",
      "CRS-11                              2708              204.35     0.0754616\n",
      "CRS-12                              2910              202.59     0.0696186\n",
      "CRS-13                              2205              203.576    0.0923247\n",
      "CRS-14                              2760              203.778    0.0738326\n",
      "CRS-15                              2410              227.094    0.0942299\n",
      "CRS-16                              2573              404.129    0.157065\n",
      "CRS-17                              2482              396.056    0.159571\n",
      "CRS-18                              2227.7            396.799    0.17812\n",
      "CRS-19                              5000              414.559    0.0829118\n",
      "CRS-2                                677              203.274    0.300257\n",
      "CRS-20                              1977              408.672    0.206713\n",
      "CRS-3                               2296              313.486    0.136536\n",
      "CRS-4                               2216              203.334    0.0917572\n",
      "CRS-5                               2395              206.049    0.086033\n",
      "CRS-6                               1898              205.548    0.108297\n",
      "CRS-8                               3136              209.37     0.0667634\n",
      "CRS-9                               2257              204.214    0.0904803\n",
      "DSX                                  600             5980.75     9.96792\n",
      "EchoStar 23                         5600            35777.3      6.38881\n",
      "Es’hail 2                           3000            35780.4     11.9268\n",
      "Eutelsat 115 West B                 2205            35786.6     16.2298\n",
      "FalconSAT-2                           20              400       20\n",
      "FormoSat-5                           475              714.366    1.50393\n",
      "GPS III SV01                        4400            20154        4.58045\n",
      "GRACE-FO 1-2                        1160              483.38     0.416707\n",
      "Hispasat 30W-6                      6092            35775.8      5.87258\n",
      "Inmarsat-5 F4                       6070            35785.8      5.89552\n",
      "Intelsat 35e                        6761            35778.9      5.29196\n",
      "Iridium NEXT 1                      9600              776.114    0.0808452\n",
      "Iridium NEXT 2                      9600              775.848    0.0808175\n",
      "Iridium NEXT 3                      9600              775.925    0.0808255\n",
      "Iridium NEXT 4                      9600              776.353    0.0808701\n",
      "Iridium NEXT 5                      9600              776.052    0.0808388\n",
      "Iridium NEXT 6                      4300              745.925    0.173471\n",
      "Iridium NEXT 7                      9600              776.387    0.0808736\n",
      "Iridium NEXT 8                      9600              776.687    0.0809049\n",
      "JCSAT-16                            4600            35784.8      7.7793\n",
      "JCSAT-2B                            4696            35778.9      7.61902\n",
      "JCSat 18 / Kacific 1                6800            35784.6      5.26245\n",
      "Jason-3                              553             1331.77     2.40826\n",
      "KoreaSat 5A                         3700            35778.1      9.66975\n",
      "NPSAT 1                               86              708.317    8.23624\n",
      "Nusantara Satu (PSN-6)              5000            35779.2      7.15583\n",
      "OTB 1                                138              707.725    5.12844\n",
      "Oculus-ASR                            70              278.978    3.9854\n",
      "Orbcomm-OG2-M1                      1316              202.633    0.153976\n",
      "Orbcomm-OG2-M2                      2034              708.157    0.34816\n",
      "PSat 2                                 2              300.944  150.472\n",
      "Paz                                 1350              507.176    0.375686\n",
      "Prox-1                                71              706.683    9.95328\n",
      "RADARSAT Constellation              1425              588.71     0.41313\n",
      "RatSat                               165              605.214    3.66796\n",
      "RazakSAT                             200              658.775    3.29387\n",
      "SAOCOM 1A                           2800              621.605    0.222002\n",
      "SES-10                              5300            35775.2      6.75004\n",
      "SES-11 / Echostar 105               5200            35776.8      6.88015\n",
      "SES-12                              5383.85         35777.8      6.6454\n",
      "SES-8                               3170            35784.4     11.2885\n",
      "SES-9                               5271            35785.4      6.78911\n",
      "SSO-A                               4000              572.629    0.143157\n",
      "Sentinel-6 Michael Freilich         1440             1331.69     0.924782\n",
      "Starlink 1                         15600              548.883    0.0351848\n",
      "Starlink 2                         15400              548.203    0.0355976\n",
      "Starlink 3                         15600              548.154    0.0351381\n",
      "Starlink 5                         15600              548.545    0.0351631\n",
      "Starlink 7                         15400              129.639    0.00841812\n",
      "Starlink 8                         15400              548.185    0.0355964\n",
      "Starlink v0.9                      13620              141.753    0.0104077\n",
      "TESS                                 350            82841.2    236.689\n",
      "Telkom-4                            5800            35781.9      6.1693\n",
      "Telstar 18V                         7060            35778.5      5.06778\n",
      "Telstar 19V                         7076            35777.4      5.05617\n",
      "Tesla Roadster                      1350              180.528    0.133724\n",
      "Thaicom 6                           3325            35777.8     10.7602\n",
      "Thaicom 8                           3100            35779.2     11.5417\n",
      "Tintin A & B                         800              155.268    0.194085\n",
      "TürkmenÄlem 52°E / MonacoSAT        4707            35774.7      7.60033\n"
     ]
    }
   ],
   "source": [
    "from operator import itemgetter\n",
    "from tabulate import tabulate\n",
    "\n",
    "# on récupère toutes les masses et altitudes de chaque vol.\n",
    "tabPayload = []\n",
    "for lineP in retourJsonPayload:\n",
    "    #on vérifie si les infos ne sont pas vides.\n",
    "    if lineP['payload_mass_kg'] and lineP[\"orbit_params\"][\"periapsis_km\"] is not None:\n",
    "        #on récupère les infos et on calcule la moyenne. \n",
    "        tabPayload.append({\"Payload ID\":lineP['payload_id'],\"Masse en kg\": lineP[\"payload_mass_kg\"], \"Altitude en km\": lineP[\"orbit_params\"][\"periapsis_km\"], \"Rapport\": lineP[\"orbit_params\"][\"periapsis_km\"]/lineP[\"payload_mass_kg\"]})\n",
    "\n",
    "tabPayload.sort(key=itemgetter('Payload ID'))\n",
    "\n",
    "print(tabulate(tabPayload, headers=\"keys\"))"
   ]
  },
  {
   "cell_type": "markdown",
   "id": "6b0fcfb5",
   "metadata": {},
   "source": [
    "# D’où peut-on tirer notre fusée avec Space X ?"
   ]
  },
  {
   "cell_type": "code",
   "execution_count": 10,
   "id": "0c748adc",
   "metadata": {},
   "outputs": [
    {
     "name": "stdout",
     "output_type": "stream",
     "text": [
      "region            full_name                                                     longitude    latitude\n",
      "----------------  ----------------------------------------------------------  -----------  ----------\n",
      "California        Vandenberg Space Force Base Space Launch Complex 3W           -120.593     34.6441\n",
      "California        Vandenberg Space Force Base Space Launch Complex 4E           -120.611     34.6321\n",
      "Florida           Cape Canaveral Space Force Station Space Launch Complex 40     -80.5774    28.5619\n",
      "Florida           Kennedy Space Center Historic Launch Complex 39A               -80.604     28.6081\n",
      "Marshall Islands  Kwajalein Atoll Omelek Island                                  167.743      9.04772\n",
      "Texas             SpaceX South Texas Launch Site                                 -97.1561    25.9973\n"
     ]
    }
   ],
   "source": [
    "# on récupère depuis l'API les différents pas de tir qui existent pour spaceX\n",
    "from operator import itemgetter\n",
    "from tabulate import tabulate\n",
    "\n",
    "urlLaunchpads = \"https://api.spacexdata.com/v4/launchpads\"\n",
    "\n",
    "response = requests.get(urlLaunchpads)\n",
    "contenu = json.loads(response.text)\n",
    "\n",
    "lstLaunchpads = [];\n",
    "\n",
    "#on récupère les différentes informations sur les pas de tir qui nous interesse\n",
    "for lines in contenu:\n",
    "        lstLaunchpads.append({\"region\":lines['region'], \"full_name\":lines['full_name'], \"longitude\":lines['longitude'], \"latitude\":lines['latitude']} )\n",
    "\n",
    "lstLaunchpads.sort(key=itemgetter('region'))\n",
    "print(tabulate(lstLaunchpads, headers=\"keys\"))"
   ]
  },
  {
   "cell_type": "markdown",
   "id": "a2568fc2",
   "metadata": {},
   "source": [
    "# Quand peut-on tirer la fusée selon la météo ?"
   ]
  },
  {
   "cell_type": "code",
   "execution_count": 11,
   "id": "cff6a9db",
   "metadata": {},
   "outputs": [
    {
     "name": "stdout",
     "output_type": "stream",
     "text": [
      "[{'launchpad': 'Vandenberg Space Force Base Space Launch Complex 3W', 'time': '2021-10-15:12', 'wind_spd': 2.05817, 'precip': 0, 'volGO': True}, {'launchpad': 'Vandenberg Space Force Base Space Launch Complex 3W', 'time': '2021-10-15:15', 'wind_spd': 1.75379, 'precip': 0, 'volGO': True}, {'launchpad': 'Vandenberg Space Force Base Space Launch Complex 3W', 'time': '2021-10-15:18', 'wind_spd': 1.89885, 'precip': 0, 'volGO': True}, {'launchpad': 'Vandenberg Space Force Base Space Launch Complex 3W', 'time': '2021-10-15:21', 'wind_spd': 1.10828, 'precip': 0, 'volGO': True}, {'launchpad': 'Vandenberg Space Force Base Space Launch Complex 3W', 'time': '2021-10-16:00', 'wind_spd': 1.91398, 'precip': 0, 'volGO': True}, {'launchpad': 'Vandenberg Space Force Base Space Launch Complex 3W', 'time': '2021-10-16:03', 'wind_spd': 1.46527, 'precip': 0, 'volGO': True}, {'launchpad': 'Vandenberg Space Force Base Space Launch Complex 3W', 'time': '2021-10-16:06', 'wind_spd': 1.82984, 'precip': 0, 'volGO': True}, {'launchpad': 'Vandenberg Space Force Base Space Launch Complex 3W', 'time': '2021-10-16:09', 'wind_spd': 2.12646, 'precip': 0, 'volGO': True}, {'launchpad': 'Vandenberg Space Force Base Space Launch Complex 3W', 'time': '2021-10-16:12', 'wind_spd': 2.07824, 'precip': 0, 'volGO': True}, {'launchpad': 'Vandenberg Space Force Base Space Launch Complex 3W', 'time': '2021-10-16:15', 'wind_spd': 1.61934, 'precip': 0, 'volGO': True}, {'launchpad': 'Vandenberg Space Force Base Space Launch Complex 3W', 'time': '2021-10-16:18', 'wind_spd': 0.0215925, 'precip': 0, 'volGO': True}, {'launchpad': 'Vandenberg Space Force Base Space Launch Complex 3W', 'time': '2021-10-16:21', 'wind_spd': 0.682423, 'precip': 0, 'volGO': True}, {'launchpad': 'Vandenberg Space Force Base Space Launch Complex 3W', 'time': '2021-10-17:00', 'wind_spd': 1.72363, 'precip': 0, 'volGO': True}, {'launchpad': 'Vandenberg Space Force Base Space Launch Complex 3W', 'time': '2021-10-17:03', 'wind_spd': 0.511601, 'precip': 0, 'volGO': True}, {'launchpad': 'Vandenberg Space Force Base Space Launch Complex 3W', 'time': '2021-10-17:06', 'wind_spd': 1.23886, 'precip': 0, 'volGO': True}, {'launchpad': 'Vandenberg Space Force Base Space Launch Complex 3W', 'time': '2021-10-17:09', 'wind_spd': 0.287391, 'precip': 0, 'volGO': True}, {'launchpad': 'Vandenberg Space Force Base Space Launch Complex 3W', 'time': '2021-10-17:12', 'wind_spd': 0.658125, 'precip': 0, 'volGO': True}, {'launchpad': 'Vandenberg Space Force Base Space Launch Complex 3W', 'time': '2021-10-17:15', 'wind_spd': 0.945414, 'precip': 0, 'volGO': True}, {'launchpad': 'Vandenberg Space Force Base Space Launch Complex 3W', 'time': '2021-10-17:18', 'wind_spd': 2.97919, 'precip': 0, 'volGO': True}, {'launchpad': 'Vandenberg Space Force Base Space Launch Complex 3W', 'time': '2021-10-17:21', 'wind_spd': 4.25101, 'precip': 0, 'volGO': True}, {'launchpad': 'Vandenberg Space Force Base Space Launch Complex 3W', 'time': '2021-10-18:00', 'wind_spd': 2.60633, 'precip': 0, 'volGO': True}, {'launchpad': 'Vandenberg Space Force Base Space Launch Complex 3W', 'time': '2021-10-18:03', 'wind_spd': 1.04809, 'precip': 0, 'volGO': True}, {'launchpad': 'Vandenberg Space Force Base Space Launch Complex 3W', 'time': '2021-10-18:06', 'wind_spd': 0.727595, 'precip': 0, 'volGO': True}, {'launchpad': 'Vandenberg Space Force Base Space Launch Complex 3W', 'time': '2021-10-18:09', 'wind_spd': 1.39556, 'precip': 0, 'volGO': True}, {'launchpad': 'Vandenberg Space Force Base Space Launch Complex 3W', 'time': '2021-10-18:12', 'wind_spd': 1.56678, 'precip': 0, 'volGO': True}, {'launchpad': 'Vandenberg Space Force Base Space Launch Complex 3W', 'time': '2021-10-18:15', 'wind_spd': 2.73145, 'precip': 0, 'volGO': True}, {'launchpad': 'Vandenberg Space Force Base Space Launch Complex 3W', 'time': '2021-10-18:18', 'wind_spd': 4.91084, 'precip': 0, 'volGO': True}, {'launchpad': 'Vandenberg Space Force Base Space Launch Complex 3W', 'time': '2021-10-18:21', 'wind_spd': 6.12432, 'precip': 0, 'volGO': False}, {'launchpad': 'Vandenberg Space Force Base Space Launch Complex 3W', 'time': '2021-10-19:00', 'wind_spd': 6.20921, 'precip': 0, 'volGO': False}, {'launchpad': 'Vandenberg Space Force Base Space Launch Complex 3W', 'time': '2021-10-19:03', 'wind_spd': 4.35979, 'precip': 0, 'volGO': True}, {'launchpad': 'Vandenberg Space Force Base Space Launch Complex 3W', 'time': '2021-10-19:06', 'wind_spd': 1.87159, 'precip': 0, 'volGO': True}, {'launchpad': 'Vandenberg Space Force Base Space Launch Complex 3W', 'time': '2021-10-19:09', 'wind_spd': 1.17953, 'precip': 0, 'volGO': True}, {'launchpad': 'Vandenberg Space Force Base Space Launch Complex 3W', 'time': '2021-10-19:12', 'wind_spd': 2.08439, 'precip': 0, 'volGO': True}, {'launchpad': 'Vandenberg Space Force Base Space Launch Complex 3W', 'time': '2021-10-19:15', 'wind_spd': 2.08555, 'precip': 0, 'volGO': True}, {'launchpad': 'Vandenberg Space Force Base Space Launch Complex 3W', 'time': '2021-10-19:18', 'wind_spd': 2.09431, 'precip': 0, 'volGO': True}, {'launchpad': 'Vandenberg Space Force Base Space Launch Complex 3W', 'time': '2021-10-19:21', 'wind_spd': 4.47513, 'precip': 0, 'volGO': True}, {'launchpad': 'Vandenberg Space Force Base Space Launch Complex 3W', 'time': '2021-10-20:00', 'wind_spd': 2.37458, 'precip': 0, 'volGO': True}, {'launchpad': 'Vandenberg Space Force Base Space Launch Complex 3W', 'time': '2021-10-20:03', 'wind_spd': 1.0327, 'precip': 0, 'volGO': True}, {'launchpad': 'Vandenberg Space Force Base Space Launch Complex 3W', 'time': '2021-10-20:06', 'wind_spd': 1.24294, 'precip': 0, 'volGO': True}, {'launchpad': 'Vandenberg Space Force Base Space Launch Complex 3W', 'time': '2021-10-20:09', 'wind_spd': 2.54549, 'precip': 0, 'volGO': True}, {'launchpad': 'Vandenberg Space Force Base Space Launch Complex 4E', 'time': '2021-10-15:12', 'wind_spd': 2.88922, 'precip': 0, 'volGO': True}, {'launchpad': 'Vandenberg Space Force Base Space Launch Complex 4E', 'time': '2021-10-15:15', 'wind_spd': 2.51861, 'precip': 0, 'volGO': True}, {'launchpad': 'Vandenberg Space Force Base Space Launch Complex 4E', 'time': '2021-10-15:18', 'wind_spd': 0.415828, 'precip': 0, 'volGO': True}, {'launchpad': 'Vandenberg Space Force Base Space Launch Complex 4E', 'time': '2021-10-15:21', 'wind_spd': 1.25335, 'precip': 0, 'volGO': True}, {'launchpad': 'Vandenberg Space Force Base Space Launch Complex 4E', 'time': '2021-10-16:00', 'wind_spd': 2.01245, 'precip': 0, 'volGO': True}, {'launchpad': 'Vandenberg Space Force Base Space Launch Complex 4E', 'time': '2021-10-16:03', 'wind_spd': 1.61395, 'precip': 0, 'volGO': True}, {'launchpad': 'Vandenberg Space Force Base Space Launch Complex 4E', 'time': '2021-10-16:06', 'wind_spd': 2.47349, 'precip': 0, 'volGO': True}, {'launchpad': 'Vandenberg Space Force Base Space Launch Complex 4E', 'time': '2021-10-16:09', 'wind_spd': 2.82772, 'precip': 0, 'volGO': True}, {'launchpad': 'Vandenberg Space Force Base Space Launch Complex 4E', 'time': '2021-10-16:12', 'wind_spd': 2.96438, 'precip': 0, 'volGO': True}, {'launchpad': 'Vandenberg Space Force Base Space Launch Complex 4E', 'time': '2021-10-16:15', 'wind_spd': 2.71692, 'precip': 0, 'volGO': True}, {'launchpad': 'Vandenberg Space Force Base Space Launch Complex 4E', 'time': '2021-10-16:18', 'wind_spd': 1.56175, 'precip': 0, 'volGO': True}, {'launchpad': 'Vandenberg Space Force Base Space Launch Complex 4E', 'time': '2021-10-16:21', 'wind_spd': 2.06507, 'precip': 0, 'volGO': True}, {'launchpad': 'Vandenberg Space Force Base Space Launch Complex 4E', 'time': '2021-10-17:00', 'wind_spd': 2.01335, 'precip': 0, 'volGO': True}, {'launchpad': 'Vandenberg Space Force Base Space Launch Complex 4E', 'time': '2021-10-17:03', 'wind_spd': 0.554981, 'precip': 0, 'volGO': True}, {'launchpad': 'Vandenberg Space Force Base Space Launch Complex 4E', 'time': '2021-10-17:06', 'wind_spd': 2.21708, 'precip': 0, 'volGO': True}, {'launchpad': 'Vandenberg Space Force Base Space Launch Complex 4E', 'time': '2021-10-17:09', 'wind_spd': 0.83417, 'precip': 0, 'volGO': True}, {'launchpad': 'Vandenberg Space Force Base Space Launch Complex 4E', 'time': '2021-10-17:12', 'wind_spd': 1.26254, 'precip': 0, 'volGO': True}, {'launchpad': 'Vandenberg Space Force Base Space Launch Complex 4E', 'time': '2021-10-17:15', 'wind_spd': 0.945414, 'precip': 0, 'volGO': True}, {'launchpad': 'Vandenberg Space Force Base Space Launch Complex 4E', 'time': '2021-10-17:18', 'wind_spd': 2.97919, 'precip': 0, 'volGO': True}, {'launchpad': 'Vandenberg Space Force Base Space Launch Complex 4E', 'time': '2021-10-17:21', 'wind_spd': 4.25101, 'precip': 0, 'volGO': True}, {'launchpad': 'Vandenberg Space Force Base Space Launch Complex 4E', 'time': '2021-10-18:00', 'wind_spd': 2.60633, 'precip': 0, 'volGO': True}, {'launchpad': 'Vandenberg Space Force Base Space Launch Complex 4E', 'time': '2021-10-18:03', 'wind_spd': 1.04809, 'precip': 0, 'volGO': True}, {'launchpad': 'Vandenberg Space Force Base Space Launch Complex 4E', 'time': '2021-10-18:06', 'wind_spd': 0.727595, 'precip': 0, 'volGO': True}, {'launchpad': 'Vandenberg Space Force Base Space Launch Complex 4E', 'time': '2021-10-18:09', 'wind_spd': 1.39556, 'precip': 0, 'volGO': True}, {'launchpad': 'Vandenberg Space Force Base Space Launch Complex 4E', 'time': '2021-10-18:12', 'wind_spd': 1.56678, 'precip': 0, 'volGO': True}, {'launchpad': 'Vandenberg Space Force Base Space Launch Complex 4E', 'time': '2021-10-18:15', 'wind_spd': 2.73145, 'precip': 0, 'volGO': True}, {'launchpad': 'Vandenberg Space Force Base Space Launch Complex 4E', 'time': '2021-10-18:18', 'wind_spd': 4.91084, 'precip': 0, 'volGO': True}, {'launchpad': 'Vandenberg Space Force Base Space Launch Complex 4E', 'time': '2021-10-18:21', 'wind_spd': 6.12432, 'precip': 0, 'volGO': False}, {'launchpad': 'Vandenberg Space Force Base Space Launch Complex 4E', 'time': '2021-10-19:00', 'wind_spd': 6.20921, 'precip': 0, 'volGO': False}, {'launchpad': 'Vandenberg Space Force Base Space Launch Complex 4E', 'time': '2021-10-19:03', 'wind_spd': 4.35979, 'precip': 0, 'volGO': True}, {'launchpad': 'Vandenberg Space Force Base Space Launch Complex 4E', 'time': '2021-10-19:06', 'wind_spd': 1.87159, 'precip': 0, 'volGO': True}, {'launchpad': 'Vandenberg Space Force Base Space Launch Complex 4E', 'time': '2021-10-19:09', 'wind_spd': 1.17953, 'precip': 0, 'volGO': True}, {'launchpad': 'Vandenberg Space Force Base Space Launch Complex 4E', 'time': '2021-10-19:12', 'wind_spd': 2.08439, 'precip': 0, 'volGO': True}, {'launchpad': 'Vandenberg Space Force Base Space Launch Complex 4E', 'time': '2021-10-19:15', 'wind_spd': 2.08555, 'precip': 0, 'volGO': True}, {'launchpad': 'Vandenberg Space Force Base Space Launch Complex 4E', 'time': '2021-10-19:18', 'wind_spd': 2.09431, 'precip': 0, 'volGO': True}, {'launchpad': 'Vandenberg Space Force Base Space Launch Complex 4E', 'time': '2021-10-19:21', 'wind_spd': 4.47513, 'precip': 0, 'volGO': True}, {'launchpad': 'Vandenberg Space Force Base Space Launch Complex 4E', 'time': '2021-10-20:00', 'wind_spd': 2.37458, 'precip': 0, 'volGO': True}, {'launchpad': 'Vandenberg Space Force Base Space Launch Complex 4E', 'time': '2021-10-20:03', 'wind_spd': 1.0327, 'precip': 0, 'volGO': True}, {'launchpad': 'Vandenberg Space Force Base Space Launch Complex 4E', 'time': '2021-10-20:06', 'wind_spd': 1.24294, 'precip': 0, 'volGO': True}, {'launchpad': 'Vandenberg Space Force Base Space Launch Complex 4E', 'time': '2021-10-20:09', 'wind_spd': 2.54549, 'precip': 0, 'volGO': True}, {'launchpad': 'Cape Canaveral Space Force Station Space Launch Complex 40', 'time': '2021-10-15:12', 'wind_spd': 3.3935, 'precip': 0, 'volGO': True}, {'launchpad': 'Cape Canaveral Space Force Station Space Launch Complex 40', 'time': '2021-10-15:15', 'wind_spd': 3.95138, 'precip': 0.375, 'volGO': False}, {'launchpad': 'Cape Canaveral Space Force Station Space Launch Complex 40', 'time': '2021-10-15:18', 'wind_spd': 4.76124, 'precip': 0, 'volGO': True}, {'launchpad': 'Cape Canaveral Space Force Station Space Launch Complex 40', 'time': '2021-10-15:21', 'wind_spd': 4.49142, 'precip': 0, 'volGO': True}, {'launchpad': 'Cape Canaveral Space Force Station Space Launch Complex 40', 'time': '2021-10-16:00', 'wind_spd': 4.59222, 'precip': 0, 'volGO': True}, {'launchpad': 'Cape Canaveral Space Force Station Space Launch Complex 40', 'time': '2021-10-16:03', 'wind_spd': 3.41448, 'precip': 0.0625, 'volGO': False}, {'launchpad': 'Cape Canaveral Space Force Station Space Launch Complex 40', 'time': '2021-10-16:06', 'wind_spd': 1.94887, 'precip': 0, 'volGO': True}, {'launchpad': 'Cape Canaveral Space Force Station Space Launch Complex 40', 'time': '2021-10-16:09', 'wind_spd': 2.35937, 'precip': 0.0625, 'volGO': False}, {'launchpad': 'Cape Canaveral Space Force Station Space Launch Complex 40', 'time': '2021-10-16:12', 'wind_spd': 4.25291, 'precip': 0, 'volGO': True}, {'launchpad': 'Cape Canaveral Space Force Station Space Launch Complex 40', 'time': '2021-10-16:15', 'wind_spd': 3.91886, 'precip': 0, 'volGO': True}, {'launchpad': 'Cape Canaveral Space Force Station Space Launch Complex 40', 'time': '2021-10-16:18', 'wind_spd': 3.55036, 'precip': 0, 'volGO': True}, {'launchpad': 'Cape Canaveral Space Force Station Space Launch Complex 40', 'time': '2021-10-16:21', 'wind_spd': 3.47532, 'precip': 0, 'volGO': True}, {'launchpad': 'Cape Canaveral Space Force Station Space Launch Complex 40', 'time': '2021-10-17:00', 'wind_spd': 1.25149, 'precip': 0, 'volGO': True}, {'launchpad': 'Cape Canaveral Space Force Station Space Launch Complex 40', 'time': '2021-10-17:03', 'wind_spd': 2.35538, 'precip': 0, 'volGO': True}, {'launchpad': 'Cape Canaveral Space Force Station Space Launch Complex 40', 'time': '2021-10-17:06', 'wind_spd': 3.80741, 'precip': 0.8125, 'volGO': False}, {'launchpad': 'Cape Canaveral Space Force Station Space Launch Complex 40', 'time': '2021-10-17:09', 'wind_spd': 11.679, 'precip': 0, 'volGO': False}, {'launchpad': 'Cape Canaveral Space Force Station Space Launch Complex 40', 'time': '2021-10-17:12', 'wind_spd': 11.0891, 'precip': 0, 'volGO': False}, {'launchpad': 'Cape Canaveral Space Force Station Space Launch Complex 40', 'time': '2021-10-17:15', 'wind_spd': 6.80579, 'precip': 0, 'volGO': False}, {'launchpad': 'Cape Canaveral Space Force Station Space Launch Complex 40', 'time': '2021-10-17:18', 'wind_spd': 7.51993, 'precip': 0.0625, 'volGO': False}, {'launchpad': 'Cape Canaveral Space Force Station Space Launch Complex 40', 'time': '2021-10-17:21', 'wind_spd': 6.84725, 'precip': 0, 'volGO': False}, {'launchpad': 'Cape Canaveral Space Force Station Space Launch Complex 40', 'time': '2021-10-18:00', 'wind_spd': 6.17324, 'precip': 0, 'volGO': False}, {'launchpad': 'Cape Canaveral Space Force Station Space Launch Complex 40', 'time': '2021-10-18:03', 'wind_spd': 5.56273, 'precip': 0, 'volGO': False}, {'launchpad': 'Cape Canaveral Space Force Station Space Launch Complex 40', 'time': '2021-10-18:06', 'wind_spd': 5.45382, 'precip': 0, 'volGO': False}, {'launchpad': 'Cape Canaveral Space Force Station Space Launch Complex 40', 'time': '2021-10-18:09', 'wind_spd': 4.83315, 'precip': 0, 'volGO': True}, {'launchpad': 'Cape Canaveral Space Force Station Space Launch Complex 40', 'time': '2021-10-18:12', 'wind_spd': 4.98828, 'precip': 0, 'volGO': True}, {'launchpad': 'Cape Canaveral Space Force Station Space Launch Complex 40', 'time': '2021-10-18:15', 'wind_spd': 5.38536, 'precip': 0, 'volGO': False}, {'launchpad': 'Cape Canaveral Space Force Station Space Launch Complex 40', 'time': '2021-10-18:18', 'wind_spd': 4.8526, 'precip': 0, 'volGO': True}, {'launchpad': 'Cape Canaveral Space Force Station Space Launch Complex 40', 'time': '2021-10-18:21', 'wind_spd': 4.39915, 'precip': 0, 'volGO': True}, {'launchpad': 'Cape Canaveral Space Force Station Space Launch Complex 40', 'time': '2021-10-19:00', 'wind_spd': 3.66658, 'precip': 0, 'volGO': True}, {'launchpad': 'Cape Canaveral Space Force Station Space Launch Complex 40', 'time': '2021-10-19:03', 'wind_spd': 3.88899, 'precip': 0, 'volGO': True}, {'launchpad': 'Cape Canaveral Space Force Station Space Launch Complex 40', 'time': '2021-10-19:06', 'wind_spd': 3.78992, 'precip': 0, 'volGO': True}, {'launchpad': 'Cape Canaveral Space Force Station Space Launch Complex 40', 'time': '2021-10-19:09', 'wind_spd': 4.26308, 'precip': 0, 'volGO': True}, {'launchpad': 'Cape Canaveral Space Force Station Space Launch Complex 40', 'time': '2021-10-19:12', 'wind_spd': 3.60812, 'precip': 0, 'volGO': True}, {'launchpad': 'Cape Canaveral Space Force Station Space Launch Complex 40', 'time': '2021-10-19:15', 'wind_spd': 4.44608, 'precip': 0, 'volGO': True}, {'launchpad': 'Cape Canaveral Space Force Station Space Launch Complex 40', 'time': '2021-10-19:18', 'wind_spd': 4.70346, 'precip': 0, 'volGO': True}, {'launchpad': 'Cape Canaveral Space Force Station Space Launch Complex 40', 'time': '2021-10-19:21', 'wind_spd': 4.2402, 'precip': 0, 'volGO': True}, {'launchpad': 'Cape Canaveral Space Force Station Space Launch Complex 40', 'time': '2021-10-20:00', 'wind_spd': 4.03754, 'precip': 0.0625, 'volGO': False}, {'launchpad': 'Cape Canaveral Space Force Station Space Launch Complex 40', 'time': '2021-10-20:03', 'wind_spd': 4.04063, 'precip': 0, 'volGO': True}, {'launchpad': 'Cape Canaveral Space Force Station Space Launch Complex 40', 'time': '2021-10-20:06', 'wind_spd': 3.62262, 'precip': 0.125, 'volGO': False}, {'launchpad': 'Cape Canaveral Space Force Station Space Launch Complex 40', 'time': '2021-10-20:09', 'wind_spd': 3.94205, 'precip': 0.3125, 'volGO': False}, {'launchpad': 'Kennedy Space Center Historic Launch Complex 39A', 'time': '2021-10-15:12', 'wind_spd': 3.19362, 'precip': 0, 'volGO': True}, {'launchpad': 'Kennedy Space Center Historic Launch Complex 39A', 'time': '2021-10-15:15', 'wind_spd': 3.84438, 'precip': 0.6875, 'volGO': False}, {'launchpad': 'Kennedy Space Center Historic Launch Complex 39A', 'time': '2021-10-15:18', 'wind_spd': 4.56762, 'precip': 0, 'volGO': True}, {'launchpad': 'Kennedy Space Center Historic Launch Complex 39A', 'time': '2021-10-15:21', 'wind_spd': 4.21032, 'precip': 0.3125, 'volGO': False}, {'launchpad': 'Kennedy Space Center Historic Launch Complex 39A', 'time': '2021-10-16:00', 'wind_spd': 4.34161, 'precip': 0, 'volGO': True}, {'launchpad': 'Kennedy Space Center Historic Launch Complex 39A', 'time': '2021-10-16:03', 'wind_spd': 3.11615, 'precip': 0, 'volGO': True}, {'launchpad': 'Kennedy Space Center Historic Launch Complex 39A', 'time': '2021-10-16:06', 'wind_spd': 1.80151, 'precip': 0, 'volGO': True}, {'launchpad': 'Kennedy Space Center Historic Launch Complex 39A', 'time': '2021-10-16:09', 'wind_spd': 2.29381, 'precip': 0, 'volGO': True}, {'launchpad': 'Kennedy Space Center Historic Launch Complex 39A', 'time': '2021-10-16:12', 'wind_spd': 3.81623, 'precip': 0, 'volGO': True}, {'launchpad': 'Kennedy Space Center Historic Launch Complex 39A', 'time': '2021-10-16:15', 'wind_spd': 3.41995, 'precip': 0, 'volGO': True}, {'launchpad': 'Kennedy Space Center Historic Launch Complex 39A', 'time': '2021-10-16:18', 'wind_spd': 3.3559, 'precip': 0, 'volGO': True}, {'launchpad': 'Kennedy Space Center Historic Launch Complex 39A', 'time': '2021-10-16:21', 'wind_spd': 3.35261, 'precip': 0, 'volGO': True}, {'launchpad': 'Kennedy Space Center Historic Launch Complex 39A', 'time': '2021-10-17:00', 'wind_spd': 1.20725, 'precip': 0, 'volGO': True}, {'launchpad': 'Kennedy Space Center Historic Launch Complex 39A', 'time': '2021-10-17:03', 'wind_spd': 2.29543, 'precip': 0, 'volGO': True}, {'launchpad': 'Kennedy Space Center Historic Launch Complex 39A', 'time': '2021-10-17:06', 'wind_spd': 3.2719, 'precip': 1.5625, 'volGO': False}, {'launchpad': 'Kennedy Space Center Historic Launch Complex 39A', 'time': '2021-10-17:09', 'wind_spd': 10.8943, 'precip': 0, 'volGO': False}, {'launchpad': 'Kennedy Space Center Historic Launch Complex 39A', 'time': '2021-10-17:12', 'wind_spd': 10.1316, 'precip': 0, 'volGO': False}, {'launchpad': 'Kennedy Space Center Historic Launch Complex 39A', 'time': '2021-10-17:15', 'wind_spd': 6.80579, 'precip': 0, 'volGO': False}, {'launchpad': 'Kennedy Space Center Historic Launch Complex 39A', 'time': '2021-10-17:18', 'wind_spd': 7.51993, 'precip': 0.0625, 'volGO': False}, {'launchpad': 'Kennedy Space Center Historic Launch Complex 39A', 'time': '2021-10-17:21', 'wind_spd': 6.84725, 'precip': 0, 'volGO': False}, {'launchpad': 'Kennedy Space Center Historic Launch Complex 39A', 'time': '2021-10-18:00', 'wind_spd': 6.17324, 'precip': 0, 'volGO': False}, {'launchpad': 'Kennedy Space Center Historic Launch Complex 39A', 'time': '2021-10-18:03', 'wind_spd': 5.56273, 'precip': 0, 'volGO': False}, {'launchpad': 'Kennedy Space Center Historic Launch Complex 39A', 'time': '2021-10-18:06', 'wind_spd': 5.45382, 'precip': 0, 'volGO': False}, {'launchpad': 'Kennedy Space Center Historic Launch Complex 39A', 'time': '2021-10-18:09', 'wind_spd': 4.83315, 'precip': 0, 'volGO': True}, {'launchpad': 'Kennedy Space Center Historic Launch Complex 39A', 'time': '2021-10-18:12', 'wind_spd': 4.98828, 'precip': 0, 'volGO': True}, {'launchpad': 'Kennedy Space Center Historic Launch Complex 39A', 'time': '2021-10-18:15', 'wind_spd': 5.38536, 'precip': 0, 'volGO': False}, {'launchpad': 'Kennedy Space Center Historic Launch Complex 39A', 'time': '2021-10-18:18', 'wind_spd': 4.8526, 'precip': 0, 'volGO': True}, {'launchpad': 'Kennedy Space Center Historic Launch Complex 39A', 'time': '2021-10-18:21', 'wind_spd': 4.39915, 'precip': 0, 'volGO': True}, {'launchpad': 'Kennedy Space Center Historic Launch Complex 39A', 'time': '2021-10-19:00', 'wind_spd': 3.66658, 'precip': 0, 'volGO': True}, {'launchpad': 'Kennedy Space Center Historic Launch Complex 39A', 'time': '2021-10-19:03', 'wind_spd': 3.88899, 'precip': 0, 'volGO': True}, {'launchpad': 'Kennedy Space Center Historic Launch Complex 39A', 'time': '2021-10-19:06', 'wind_spd': 3.78992, 'precip': 0, 'volGO': True}, {'launchpad': 'Kennedy Space Center Historic Launch Complex 39A', 'time': '2021-10-19:09', 'wind_spd': 4.26308, 'precip': 0, 'volGO': True}, {'launchpad': 'Kennedy Space Center Historic Launch Complex 39A', 'time': '2021-10-19:12', 'wind_spd': 3.60812, 'precip': 0, 'volGO': True}, {'launchpad': 'Kennedy Space Center Historic Launch Complex 39A', 'time': '2021-10-19:15', 'wind_spd': 4.44608, 'precip': 0, 'volGO': True}, {'launchpad': 'Kennedy Space Center Historic Launch Complex 39A', 'time': '2021-10-19:18', 'wind_spd': 4.70346, 'precip': 0, 'volGO': True}, {'launchpad': 'Kennedy Space Center Historic Launch Complex 39A', 'time': '2021-10-19:21', 'wind_spd': 4.2402, 'precip': 0, 'volGO': True}, {'launchpad': 'Kennedy Space Center Historic Launch Complex 39A', 'time': '2021-10-20:00', 'wind_spd': 4.03754, 'precip': 0.0625, 'volGO': False}, {'launchpad': 'Kennedy Space Center Historic Launch Complex 39A', 'time': '2021-10-20:03', 'wind_spd': 4.04063, 'precip': 0, 'volGO': True}, {'launchpad': 'Kennedy Space Center Historic Launch Complex 39A', 'time': '2021-10-20:06', 'wind_spd': 3.62262, 'precip': 0.125, 'volGO': False}, {'launchpad': 'Kennedy Space Center Historic Launch Complex 39A', 'time': '2021-10-20:09', 'wind_spd': 3.94205, 'precip': 0.3125, 'volGO': False}, {'launchpad': 'Kwajalein Atoll Omelek Island', 'time': '2021-10-15:12', 'wind_spd': 0.639823, 'precip': 0, 'volGO': True}, {'launchpad': 'Kwajalein Atoll Omelek Island', 'time': '2021-10-15:15', 'wind_spd': 1.83167, 'precip': 0.0625, 'volGO': False}, {'launchpad': 'Kwajalein Atoll Omelek Island', 'time': '2021-10-15:18', 'wind_spd': 3.90371, 'precip': 0, 'volGO': True}, {'launchpad': 'Kwajalein Atoll Omelek Island', 'time': '2021-10-15:21', 'wind_spd': 5.22784, 'precip': 0, 'volGO': False}, {'launchpad': 'Kwajalein Atoll Omelek Island', 'time': '2021-10-16:00', 'wind_spd': 5.13738, 'precip': 0, 'volGO': False}, {'launchpad': 'Kwajalein Atoll Omelek Island', 'time': '2021-10-16:03', 'wind_spd': 4.95865, 'precip': 0, 'volGO': True}, {'launchpad': 'Kwajalein Atoll Omelek Island', 'time': '2021-10-16:06', 'wind_spd': 4.46386, 'precip': 0, 'volGO': True}, {'launchpad': 'Kwajalein Atoll Omelek Island', 'time': '2021-10-16:09', 'wind_spd': 5.07401, 'precip': 0.0625, 'volGO': False}, {'launchpad': 'Kwajalein Atoll Omelek Island', 'time': '2021-10-16:12', 'wind_spd': 5.79339, 'precip': 0.125, 'volGO': False}, {'launchpad': 'Kwajalein Atoll Omelek Island', 'time': '2021-10-16:15', 'wind_spd': 5.18576, 'precip': 0.125, 'volGO': False}, {'launchpad': 'Kwajalein Atoll Omelek Island', 'time': '2021-10-16:18', 'wind_spd': 4.05023, 'precip': 0.25, 'volGO': False}, {'launchpad': 'Kwajalein Atoll Omelek Island', 'time': '2021-10-16:21', 'wind_spd': 4.00715, 'precip': 0, 'volGO': True}, {'launchpad': 'Kwajalein Atoll Omelek Island', 'time': '2021-10-17:00', 'wind_spd': 3.27151, 'precip': 0, 'volGO': True}, {'launchpad': 'Kwajalein Atoll Omelek Island', 'time': '2021-10-17:03', 'wind_spd': 2.61658, 'precip': 0.0625, 'volGO': False}, {'launchpad': 'Kwajalein Atoll Omelek Island', 'time': '2021-10-17:06', 'wind_spd': 2.11443, 'precip': 0, 'volGO': True}, {'launchpad': 'Kwajalein Atoll Omelek Island', 'time': '2021-10-17:09', 'wind_spd': 1.95307, 'precip': 0.0625, 'volGO': False}, {'launchpad': 'Kwajalein Atoll Omelek Island', 'time': '2021-10-17:12', 'wind_spd': 1.71417, 'precip': 0.1875, 'volGO': False}, {'launchpad': 'Kwajalein Atoll Omelek Island', 'time': '2021-10-17:15', 'wind_spd': 1.22478, 'precip': 0.5625, 'volGO': False}, {'launchpad': 'Kwajalein Atoll Omelek Island', 'time': '2021-10-17:18', 'wind_spd': 1.69751, 'precip': 0.25, 'volGO': False}, {'launchpad': 'Kwajalein Atoll Omelek Island', 'time': '2021-10-17:21', 'wind_spd': 2.39227, 'precip': 0.8125, 'volGO': False}, {'launchpad': 'Kwajalein Atoll Omelek Island', 'time': '2021-10-18:00', 'wind_spd': 3.26628, 'precip': 0, 'volGO': True}, {'launchpad': 'Kwajalein Atoll Omelek Island', 'time': '2021-10-18:03', 'wind_spd': 2.64481, 'precip': 0, 'volGO': True}, {'launchpad': 'Kwajalein Atoll Omelek Island', 'time': '2021-10-18:06', 'wind_spd': 2.89232, 'precip': 0, 'volGO': True}, {'launchpad': 'Kwajalein Atoll Omelek Island', 'time': '2021-10-18:09', 'wind_spd': 3.60934, 'precip': 0, 'volGO': True}, {'launchpad': 'Kwajalein Atoll Omelek Island', 'time': '2021-10-18:12', 'wind_spd': 3.96623, 'precip': 0, 'volGO': True}, {'launchpad': 'Kwajalein Atoll Omelek Island', 'time': '2021-10-18:15', 'wind_spd': 3.62373, 'precip': 0, 'volGO': True}, {'launchpad': 'Kwajalein Atoll Omelek Island', 'time': '2021-10-18:18', 'wind_spd': 3.96112, 'precip': 0, 'volGO': True}, {'launchpad': 'Kwajalein Atoll Omelek Island', 'time': '2021-10-18:21', 'wind_spd': 4.45578, 'precip': 0, 'volGO': True}, {'launchpad': 'Kwajalein Atoll Omelek Island', 'time': '2021-10-19:00', 'wind_spd': 4.08524, 'precip': 0, 'volGO': True}, {'launchpad': 'Kwajalein Atoll Omelek Island', 'time': '2021-10-19:03', 'wind_spd': 3.469, 'precip': 0.0625, 'volGO': False}, {'launchpad': 'Kwajalein Atoll Omelek Island', 'time': '2021-10-19:06', 'wind_spd': 2.88546, 'precip': 0.1875, 'volGO': False}, {'launchpad': 'Kwajalein Atoll Omelek Island', 'time': '2021-10-19:09', 'wind_spd': 2.35497, 'precip': 0.0625, 'volGO': False}, {'launchpad': 'Kwajalein Atoll Omelek Island', 'time': '2021-10-19:12', 'wind_spd': 2.47297, 'precip': 0.875, 'volGO': False}, {'launchpad': 'Kwajalein Atoll Omelek Island', 'time': '2021-10-19:15', 'wind_spd': 1.62684, 'precip': 0.875, 'volGO': False}, {'launchpad': 'Kwajalein Atoll Omelek Island', 'time': '2021-10-19:18', 'wind_spd': 1.88041, 'precip': 0.3125, 'volGO': False}, {'launchpad': 'Kwajalein Atoll Omelek Island', 'time': '2021-10-19:21', 'wind_spd': 2.00072, 'precip': 0.875, 'volGO': False}, {'launchpad': 'Kwajalein Atoll Omelek Island', 'time': '2021-10-20:00', 'wind_spd': 2.89664, 'precip': 0.0625, 'volGO': False}, {'launchpad': 'Kwajalein Atoll Omelek Island', 'time': '2021-10-20:03', 'wind_spd': 3.7016, 'precip': 0.5, 'volGO': False}, {'launchpad': 'Kwajalein Atoll Omelek Island', 'time': '2021-10-20:06', 'wind_spd': 4.13086, 'precip': 2.125, 'volGO': False}, {'launchpad': 'Kwajalein Atoll Omelek Island', 'time': '2021-10-20:09', 'wind_spd': 3.75213, 'precip': 2.3125, 'volGO': False}, {'launchpad': 'SpaceX South Texas Launch Site', 'time': '2021-10-15:12', 'wind_spd': 4.74641, 'precip': 0.0625, 'volGO': False}, {'launchpad': 'SpaceX South Texas Launch Site', 'time': '2021-10-15:15', 'wind_spd': 4.8156, 'precip': 0, 'volGO': True}, {'launchpad': 'SpaceX South Texas Launch Site', 'time': '2021-10-15:18', 'wind_spd': 3.27659, 'precip': 0, 'volGO': True}, {'launchpad': 'SpaceX South Texas Launch Site', 'time': '2021-10-15:21', 'wind_spd': 3.92937, 'precip': 0, 'volGO': True}, {'launchpad': 'SpaceX South Texas Launch Site', 'time': '2021-10-16:00', 'wind_spd': 3.40317, 'precip': 0, 'volGO': True}, {'launchpad': 'SpaceX South Texas Launch Site', 'time': '2021-10-16:03', 'wind_spd': 3.03547, 'precip': 0, 'volGO': True}, {'launchpad': 'SpaceX South Texas Launch Site', 'time': '2021-10-16:06', 'wind_spd': 3.33156, 'precip': 0.0625, 'volGO': False}, {'launchpad': 'SpaceX South Texas Launch Site', 'time': '2021-10-16:09', 'wind_spd': 12.4332, 'precip': 1.0625, 'volGO': False}, {'launchpad': 'SpaceX South Texas Launch Site', 'time': '2021-10-16:12', 'wind_spd': 11.6562, 'precip': 8.625, 'volGO': False}, {'launchpad': 'SpaceX South Texas Launch Site', 'time': '2021-10-16:15', 'wind_spd': 12.0646, 'precip': 0, 'volGO': False}, {'launchpad': 'SpaceX South Texas Launch Site', 'time': '2021-10-16:18', 'wind_spd': 11.9051, 'precip': 0, 'volGO': False}, {'launchpad': 'SpaceX South Texas Launch Site', 'time': '2021-10-16:21', 'wind_spd': 12.049, 'precip': 0, 'volGO': False}, {'launchpad': 'SpaceX South Texas Launch Site', 'time': '2021-10-17:00', 'wind_spd': 10.6082, 'precip': 0, 'volGO': False}, {'launchpad': 'SpaceX South Texas Launch Site', 'time': '2021-10-17:03', 'wind_spd': 9.19393, 'precip': 0, 'volGO': False}, {'launchpad': 'SpaceX South Texas Launch Site', 'time': '2021-10-17:06', 'wind_spd': 8.40358, 'precip': 0, 'volGO': False}, {'launchpad': 'SpaceX South Texas Launch Site', 'time': '2021-10-17:09', 'wind_spd': 7.3968, 'precip': 0, 'volGO': False}, {'launchpad': 'SpaceX South Texas Launch Site', 'time': '2021-10-17:12', 'wind_spd': 5.98766, 'precip': 0, 'volGO': False}, {'launchpad': 'SpaceX South Texas Launch Site', 'time': '2021-10-17:15', 'wind_spd': 4.43586, 'precip': 0, 'volGO': True}, {'launchpad': 'SpaceX South Texas Launch Site', 'time': '2021-10-17:18', 'wind_spd': 5.33856, 'precip': 0, 'volGO': False}, {'launchpad': 'SpaceX South Texas Launch Site', 'time': '2021-10-17:21', 'wind_spd': 6.61272, 'precip': 0, 'volGO': False}, {'launchpad': 'SpaceX South Texas Launch Site', 'time': '2021-10-18:00', 'wind_spd': 4.81485, 'precip': 0, 'volGO': True}, {'launchpad': 'SpaceX South Texas Launch Site', 'time': '2021-10-18:03', 'wind_spd': 3.8036, 'precip': 0, 'volGO': True}, {'launchpad': 'SpaceX South Texas Launch Site', 'time': '2021-10-18:06', 'wind_spd': 2.73541, 'precip': 0, 'volGO': True}, {'launchpad': 'SpaceX South Texas Launch Site', 'time': '2021-10-18:09', 'wind_spd': 1.95789, 'precip': 0, 'volGO': True}, {'launchpad': 'SpaceX South Texas Launch Site', 'time': '2021-10-18:12', 'wind_spd': 1.4585, 'precip': 0, 'volGO': True}, {'launchpad': 'SpaceX South Texas Launch Site', 'time': '2021-10-18:15', 'wind_spd': 1.74642, 'precip': 0, 'volGO': True}, {'launchpad': 'SpaceX South Texas Launch Site', 'time': '2021-10-18:18', 'wind_spd': 4.37195, 'precip': 0, 'volGO': True}, {'launchpad': 'SpaceX South Texas Launch Site', 'time': '2021-10-18:21', 'wind_spd': 4.77968, 'precip': 0, 'volGO': True}, {'launchpad': 'SpaceX South Texas Launch Site', 'time': '2021-10-19:00', 'wind_spd': 4.88243, 'precip': 0, 'volGO': True}, {'launchpad': 'SpaceX South Texas Launch Site', 'time': '2021-10-19:03', 'wind_spd': 4.04444, 'precip': 0, 'volGO': True}, {'launchpad': 'SpaceX South Texas Launch Site', 'time': '2021-10-19:06', 'wind_spd': 4.22388, 'precip': 0, 'volGO': True}, {'launchpad': 'SpaceX South Texas Launch Site', 'time': '2021-10-19:09', 'wind_spd': 3.74843, 'precip': 0, 'volGO': True}, {'launchpad': 'SpaceX South Texas Launch Site', 'time': '2021-10-19:12', 'wind_spd': 3.91128, 'precip': 0, 'volGO': True}, {'launchpad': 'SpaceX South Texas Launch Site', 'time': '2021-10-19:15', 'wind_spd': 4.59564, 'precip': 0, 'volGO': True}, {'launchpad': 'SpaceX South Texas Launch Site', 'time': '2021-10-19:18', 'wind_spd': 5.39471, 'precip': 0, 'volGO': False}, {'launchpad': 'SpaceX South Texas Launch Site', 'time': '2021-10-19:21', 'wind_spd': 5.57769, 'precip': 0, 'volGO': False}, {'launchpad': 'SpaceX South Texas Launch Site', 'time': '2021-10-20:00', 'wind_spd': 4.95089, 'precip': 0, 'volGO': True}, {'launchpad': 'SpaceX South Texas Launch Site', 'time': '2021-10-20:03', 'wind_spd': 5.16788, 'precip': 0, 'volGO': False}, {'launchpad': 'SpaceX South Texas Launch Site', 'time': '2021-10-20:06', 'wind_spd': 5.22842, 'precip': 0.0625, 'volGO': False}, {'launchpad': 'SpaceX South Texas Launch Site', 'time': '2021-10-20:09', 'wind_spd': 4.86655, 'precip': 0.25, 'volGO': False}]\n"
     ]
    }
   ],
   "source": [
    "# on fait appel a l'API Dark Sky pour connaitre le temps et les prévisions pour un endroit donnés\n",
    "url = \"https://weatherbit-v1-mashape.p.rapidapi.com/forecast/3hourly\"\n",
    "headers = {\n",
    "    'x-rapidapi-host': \"weatherbit-v1-mashape.p.rapidapi.com\",\n",
    "    'x-rapidapi-key': \"9505332663msh5e67c1175daa7fbp1cd6a4jsnb5d78deb1d84\"\n",
    "    }\n",
    "\n",
    "launchWather = []\n",
    "\n",
    "# pour chacun des pas de tir on fait appel à lAPI avec la longitude et la latitude\n",
    "for launchpad in lstLaunchpads:\n",
    "    querystring = {\"lat\":launchpad['latitude'],\"lon\":launchpad['longitude']}\n",
    "    response = requests.request(\"GET\", url, headers=headers, params=querystring)\n",
    "\n",
    "    watherVal = []\n",
    "\n",
    "    jsonWather = json.loads(response.text)\n",
    "    volGO = False;\n",
    "    \n",
    "    # pour chaque ligne d'informations retournée par l'API \n",
    "    for value in jsonWather['data']:\n",
    "        \n",
    "        # on vérifie si le lancement peut avoir lieu selon les prévisions\n",
    "        if(value[\"wind_spd\"]< 5 and value[\"precip\"] == 0):\n",
    "            volGO = True;\n",
    "            \n",
    "        # on stock les infos météo pour le lancement selon la date et le lieu\n",
    "        launchWather.append({\"launchpad\":launchpad['full_name'],\"time\":value[\"datetime\"],\"wind_spd\":value[\"wind_spd\"],\"precip\":value[\"precip\"],\"volGO\":volGO})\n",
    "        volGO = False;\n",
    "\n",
    "print(launchWather)"
   ]
  },
  {
   "cell_type": "code",
   "execution_count": 12,
   "id": "b91a9bd3",
   "metadata": {},
   "outputs": [
    {
     "name": "stdout",
     "output_type": "stream",
     "text": [
      "pad : Vandenberg Space Force Base Space Launch Complex 3W  date : 2021-10-15:12\n",
      "pad : Vandenberg Space Force Base Space Launch Complex 3W  date : 2021-10-15:15\n",
      "pad : Vandenberg Space Force Base Space Launch Complex 3W  date : 2021-10-15:18\n",
      "pad : Vandenberg Space Force Base Space Launch Complex 3W  date : 2021-10-15:21\n",
      "pad : Vandenberg Space Force Base Space Launch Complex 3W  date : 2021-10-16:00\n",
      "pad : Vandenberg Space Force Base Space Launch Complex 3W  date : 2021-10-16:03\n",
      "pad : Vandenberg Space Force Base Space Launch Complex 3W  date : 2021-10-16:06\n",
      "pad : Vandenberg Space Force Base Space Launch Complex 3W  date : 2021-10-16:09\n",
      "pad : Vandenberg Space Force Base Space Launch Complex 3W  date : 2021-10-16:12\n",
      "pad : Vandenberg Space Force Base Space Launch Complex 3W  date : 2021-10-16:15\n",
      "pad : Vandenberg Space Force Base Space Launch Complex 3W  date : 2021-10-16:18\n",
      "pad : Vandenberg Space Force Base Space Launch Complex 3W  date : 2021-10-16:21\n",
      "pad : Vandenberg Space Force Base Space Launch Complex 3W  date : 2021-10-17:00\n",
      "pad : Vandenberg Space Force Base Space Launch Complex 3W  date : 2021-10-17:03\n",
      "pad : Vandenberg Space Force Base Space Launch Complex 3W  date : 2021-10-17:06\n",
      "pad : Vandenberg Space Force Base Space Launch Complex 3W  date : 2021-10-17:09\n",
      "pad : Vandenberg Space Force Base Space Launch Complex 3W  date : 2021-10-17:12\n",
      "pad : Vandenberg Space Force Base Space Launch Complex 3W  date : 2021-10-17:15\n",
      "pad : Vandenberg Space Force Base Space Launch Complex 3W  date : 2021-10-17:18\n",
      "pad : Vandenberg Space Force Base Space Launch Complex 3W  date : 2021-10-17:21\n",
      "pad : Vandenberg Space Force Base Space Launch Complex 3W  date : 2021-10-18:00\n",
      "pad : Vandenberg Space Force Base Space Launch Complex 3W  date : 2021-10-18:03\n",
      "pad : Vandenberg Space Force Base Space Launch Complex 3W  date : 2021-10-18:06\n",
      "pad : Vandenberg Space Force Base Space Launch Complex 3W  date : 2021-10-18:09\n",
      "pad : Vandenberg Space Force Base Space Launch Complex 3W  date : 2021-10-18:12\n",
      "pad : Vandenberg Space Force Base Space Launch Complex 3W  date : 2021-10-18:15\n",
      "pad : Vandenberg Space Force Base Space Launch Complex 3W  date : 2021-10-18:18\n",
      "pad : Vandenberg Space Force Base Space Launch Complex 3W  date : 2021-10-19:03\n",
      "pad : Vandenberg Space Force Base Space Launch Complex 3W  date : 2021-10-19:06\n",
      "pad : Vandenberg Space Force Base Space Launch Complex 3W  date : 2021-10-19:09\n",
      "pad : Vandenberg Space Force Base Space Launch Complex 3W  date : 2021-10-19:12\n",
      "pad : Vandenberg Space Force Base Space Launch Complex 3W  date : 2021-10-19:15\n",
      "pad : Vandenberg Space Force Base Space Launch Complex 3W  date : 2021-10-19:18\n",
      "pad : Vandenberg Space Force Base Space Launch Complex 3W  date : 2021-10-19:21\n",
      "pad : Vandenberg Space Force Base Space Launch Complex 3W  date : 2021-10-20:00\n",
      "pad : Vandenberg Space Force Base Space Launch Complex 3W  date : 2021-10-20:03\n",
      "pad : Vandenberg Space Force Base Space Launch Complex 3W  date : 2021-10-20:06\n",
      "pad : Vandenberg Space Force Base Space Launch Complex 3W  date : 2021-10-20:09\n",
      "pad : Vandenberg Space Force Base Space Launch Complex 4E  date : 2021-10-15:12\n",
      "pad : Vandenberg Space Force Base Space Launch Complex 4E  date : 2021-10-15:15\n",
      "pad : Vandenberg Space Force Base Space Launch Complex 4E  date : 2021-10-15:18\n",
      "pad : Vandenberg Space Force Base Space Launch Complex 4E  date : 2021-10-15:21\n",
      "pad : Vandenberg Space Force Base Space Launch Complex 4E  date : 2021-10-16:00\n",
      "pad : Vandenberg Space Force Base Space Launch Complex 4E  date : 2021-10-16:03\n",
      "pad : Vandenberg Space Force Base Space Launch Complex 4E  date : 2021-10-16:06\n",
      "pad : Vandenberg Space Force Base Space Launch Complex 4E  date : 2021-10-16:09\n",
      "pad : Vandenberg Space Force Base Space Launch Complex 4E  date : 2021-10-16:12\n",
      "pad : Vandenberg Space Force Base Space Launch Complex 4E  date : 2021-10-16:15\n",
      "pad : Vandenberg Space Force Base Space Launch Complex 4E  date : 2021-10-16:18\n",
      "pad : Vandenberg Space Force Base Space Launch Complex 4E  date : 2021-10-16:21\n",
      "pad : Vandenberg Space Force Base Space Launch Complex 4E  date : 2021-10-17:00\n",
      "pad : Vandenberg Space Force Base Space Launch Complex 4E  date : 2021-10-17:03\n",
      "pad : Vandenberg Space Force Base Space Launch Complex 4E  date : 2021-10-17:06\n",
      "pad : Vandenberg Space Force Base Space Launch Complex 4E  date : 2021-10-17:09\n",
      "pad : Vandenberg Space Force Base Space Launch Complex 4E  date : 2021-10-17:12\n",
      "pad : Vandenberg Space Force Base Space Launch Complex 4E  date : 2021-10-17:15\n",
      "pad : Vandenberg Space Force Base Space Launch Complex 4E  date : 2021-10-17:18\n",
      "pad : Vandenberg Space Force Base Space Launch Complex 4E  date : 2021-10-17:21\n",
      "pad : Vandenberg Space Force Base Space Launch Complex 4E  date : 2021-10-18:00\n",
      "pad : Vandenberg Space Force Base Space Launch Complex 4E  date : 2021-10-18:03\n",
      "pad : Vandenberg Space Force Base Space Launch Complex 4E  date : 2021-10-18:06\n",
      "pad : Vandenberg Space Force Base Space Launch Complex 4E  date : 2021-10-18:09\n",
      "pad : Vandenberg Space Force Base Space Launch Complex 4E  date : 2021-10-18:12\n",
      "pad : Vandenberg Space Force Base Space Launch Complex 4E  date : 2021-10-18:15\n",
      "pad : Vandenberg Space Force Base Space Launch Complex 4E  date : 2021-10-18:18\n",
      "pad : Vandenberg Space Force Base Space Launch Complex 4E  date : 2021-10-19:03\n",
      "pad : Vandenberg Space Force Base Space Launch Complex 4E  date : 2021-10-19:06\n",
      "pad : Vandenberg Space Force Base Space Launch Complex 4E  date : 2021-10-19:09\n",
      "pad : Vandenberg Space Force Base Space Launch Complex 4E  date : 2021-10-19:12\n",
      "pad : Vandenberg Space Force Base Space Launch Complex 4E  date : 2021-10-19:15\n",
      "pad : Vandenberg Space Force Base Space Launch Complex 4E  date : 2021-10-19:18\n",
      "pad : Vandenberg Space Force Base Space Launch Complex 4E  date : 2021-10-19:21\n",
      "pad : Vandenberg Space Force Base Space Launch Complex 4E  date : 2021-10-20:00\n",
      "pad : Vandenberg Space Force Base Space Launch Complex 4E  date : 2021-10-20:03\n",
      "pad : Vandenberg Space Force Base Space Launch Complex 4E  date : 2021-10-20:06\n",
      "pad : Vandenberg Space Force Base Space Launch Complex 4E  date : 2021-10-20:09\n",
      "pad : Cape Canaveral Space Force Station Space Launch Complex 40  date : 2021-10-15:12\n",
      "pad : Cape Canaveral Space Force Station Space Launch Complex 40  date : 2021-10-15:18\n",
      "pad : Cape Canaveral Space Force Station Space Launch Complex 40  date : 2021-10-15:21\n",
      "pad : Cape Canaveral Space Force Station Space Launch Complex 40  date : 2021-10-16:00\n",
      "pad : Cape Canaveral Space Force Station Space Launch Complex 40  date : 2021-10-16:06\n",
      "pad : Cape Canaveral Space Force Station Space Launch Complex 40  date : 2021-10-16:12\n",
      "pad : Cape Canaveral Space Force Station Space Launch Complex 40  date : 2021-10-16:15\n",
      "pad : Cape Canaveral Space Force Station Space Launch Complex 40  date : 2021-10-16:18\n",
      "pad : Cape Canaveral Space Force Station Space Launch Complex 40  date : 2021-10-16:21\n",
      "pad : Cape Canaveral Space Force Station Space Launch Complex 40  date : 2021-10-17:00\n",
      "pad : Cape Canaveral Space Force Station Space Launch Complex 40  date : 2021-10-17:03\n",
      "pad : Cape Canaveral Space Force Station Space Launch Complex 40  date : 2021-10-18:09\n",
      "pad : Cape Canaveral Space Force Station Space Launch Complex 40  date : 2021-10-18:12\n",
      "pad : Cape Canaveral Space Force Station Space Launch Complex 40  date : 2021-10-18:18\n",
      "pad : Cape Canaveral Space Force Station Space Launch Complex 40  date : 2021-10-18:21\n",
      "pad : Cape Canaveral Space Force Station Space Launch Complex 40  date : 2021-10-19:00\n",
      "pad : Cape Canaveral Space Force Station Space Launch Complex 40  date : 2021-10-19:03\n",
      "pad : Cape Canaveral Space Force Station Space Launch Complex 40  date : 2021-10-19:06\n",
      "pad : Cape Canaveral Space Force Station Space Launch Complex 40  date : 2021-10-19:09\n",
      "pad : Cape Canaveral Space Force Station Space Launch Complex 40  date : 2021-10-19:12\n",
      "pad : Cape Canaveral Space Force Station Space Launch Complex 40  date : 2021-10-19:15\n",
      "pad : Cape Canaveral Space Force Station Space Launch Complex 40  date : 2021-10-19:18\n",
      "pad : Cape Canaveral Space Force Station Space Launch Complex 40  date : 2021-10-19:21\n",
      "pad : Cape Canaveral Space Force Station Space Launch Complex 40  date : 2021-10-20:03\n",
      "pad : Kennedy Space Center Historic Launch Complex 39A  date : 2021-10-15:12\n",
      "pad : Kennedy Space Center Historic Launch Complex 39A  date : 2021-10-15:18\n",
      "pad : Kennedy Space Center Historic Launch Complex 39A  date : 2021-10-16:00\n",
      "pad : Kennedy Space Center Historic Launch Complex 39A  date : 2021-10-16:03\n",
      "pad : Kennedy Space Center Historic Launch Complex 39A  date : 2021-10-16:06\n",
      "pad : Kennedy Space Center Historic Launch Complex 39A  date : 2021-10-16:09\n",
      "pad : Kennedy Space Center Historic Launch Complex 39A  date : 2021-10-16:12\n",
      "pad : Kennedy Space Center Historic Launch Complex 39A  date : 2021-10-16:15\n",
      "pad : Kennedy Space Center Historic Launch Complex 39A  date : 2021-10-16:18\n",
      "pad : Kennedy Space Center Historic Launch Complex 39A  date : 2021-10-16:21\n",
      "pad : Kennedy Space Center Historic Launch Complex 39A  date : 2021-10-17:00\n",
      "pad : Kennedy Space Center Historic Launch Complex 39A  date : 2021-10-17:03\n",
      "pad : Kennedy Space Center Historic Launch Complex 39A  date : 2021-10-18:09\n",
      "pad : Kennedy Space Center Historic Launch Complex 39A  date : 2021-10-18:12\n",
      "pad : Kennedy Space Center Historic Launch Complex 39A  date : 2021-10-18:18\n",
      "pad : Kennedy Space Center Historic Launch Complex 39A  date : 2021-10-18:21\n",
      "pad : Kennedy Space Center Historic Launch Complex 39A  date : 2021-10-19:00\n",
      "pad : Kennedy Space Center Historic Launch Complex 39A  date : 2021-10-19:03\n",
      "pad : Kennedy Space Center Historic Launch Complex 39A  date : 2021-10-19:06\n",
      "pad : Kennedy Space Center Historic Launch Complex 39A  date : 2021-10-19:09\n",
      "pad : Kennedy Space Center Historic Launch Complex 39A  date : 2021-10-19:12\n",
      "pad : Kennedy Space Center Historic Launch Complex 39A  date : 2021-10-19:15\n",
      "pad : Kennedy Space Center Historic Launch Complex 39A  date : 2021-10-19:18\n",
      "pad : Kennedy Space Center Historic Launch Complex 39A  date : 2021-10-19:21\n",
      "pad : Kennedy Space Center Historic Launch Complex 39A  date : 2021-10-20:03\n",
      "pad : Kwajalein Atoll Omelek Island  date : 2021-10-15:12\n",
      "pad : Kwajalein Atoll Omelek Island  date : 2021-10-15:18\n",
      "pad : Kwajalein Atoll Omelek Island  date : 2021-10-16:03\n",
      "pad : Kwajalein Atoll Omelek Island  date : 2021-10-16:06\n",
      "pad : Kwajalein Atoll Omelek Island  date : 2021-10-16:21\n",
      "pad : Kwajalein Atoll Omelek Island  date : 2021-10-17:00\n",
      "pad : Kwajalein Atoll Omelek Island  date : 2021-10-17:06\n",
      "pad : Kwajalein Atoll Omelek Island  date : 2021-10-18:00\n",
      "pad : Kwajalein Atoll Omelek Island  date : 2021-10-18:03\n",
      "pad : Kwajalein Atoll Omelek Island  date : 2021-10-18:06\n",
      "pad : Kwajalein Atoll Omelek Island  date : 2021-10-18:09\n",
      "pad : Kwajalein Atoll Omelek Island  date : 2021-10-18:12\n",
      "pad : Kwajalein Atoll Omelek Island  date : 2021-10-18:15\n",
      "pad : Kwajalein Atoll Omelek Island  date : 2021-10-18:18\n",
      "pad : Kwajalein Atoll Omelek Island  date : 2021-10-18:21\n",
      "pad : Kwajalein Atoll Omelek Island  date : 2021-10-19:00\n",
      "pad : SpaceX South Texas Launch Site  date : 2021-10-15:15\n",
      "pad : SpaceX South Texas Launch Site  date : 2021-10-15:18\n",
      "pad : SpaceX South Texas Launch Site  date : 2021-10-15:21\n",
      "pad : SpaceX South Texas Launch Site  date : 2021-10-16:00\n",
      "pad : SpaceX South Texas Launch Site  date : 2021-10-16:03\n",
      "pad : SpaceX South Texas Launch Site  date : 2021-10-17:15\n",
      "pad : SpaceX South Texas Launch Site  date : 2021-10-18:00\n",
      "pad : SpaceX South Texas Launch Site  date : 2021-10-18:03\n",
      "pad : SpaceX South Texas Launch Site  date : 2021-10-18:06\n",
      "pad : SpaceX South Texas Launch Site  date : 2021-10-18:09\n",
      "pad : SpaceX South Texas Launch Site  date : 2021-10-18:12\n",
      "pad : SpaceX South Texas Launch Site  date : 2021-10-18:15\n",
      "pad : SpaceX South Texas Launch Site  date : 2021-10-18:18\n",
      "pad : SpaceX South Texas Launch Site  date : 2021-10-18:21\n",
      "pad : SpaceX South Texas Launch Site  date : 2021-10-19:00\n",
      "pad : SpaceX South Texas Launch Site  date : 2021-10-19:03\n",
      "pad : SpaceX South Texas Launch Site  date : 2021-10-19:06\n",
      "pad : SpaceX South Texas Launch Site  date : 2021-10-19:09\n",
      "pad : SpaceX South Texas Launch Site  date : 2021-10-19:12\n",
      "pad : SpaceX South Texas Launch Site  date : 2021-10-19:15\n",
      "pad : SpaceX South Texas Launch Site  date : 2021-10-20:00\n"
     ]
    }
   ],
   "source": [
    "# pour chacune des infos météo on affiche la ligne le nom du lieu et la date de lancement si le lancement est possible\n",
    "for watherTime in launchWather:\n",
    "    if(watherTime['volGO'] == True):\n",
    "        print('pad : '+ watherTime['launchpad'] + '  date : ' +watherTime['time'])"
   ]
  },
  {
   "cell_type": "code",
   "execution_count": null,
   "id": "e2f3d47c",
   "metadata": {},
   "outputs": [],
   "source": []
  }
 ],
 "metadata": {
  "kernelspec": {
   "display_name": "Python 3",
   "language": "python",
   "name": "python3"
  },
  "language_info": {
   "codemirror_mode": {
    "name": "ipython",
    "version": 3
   },
   "file_extension": ".py",
   "mimetype": "text/x-python",
   "name": "python",
   "nbconvert_exporter": "python",
   "pygments_lexer": "ipython3",
   "version": "3.8.8"
  }
 },
 "nbformat": 4,
 "nbformat_minor": 5
}
